{
 "cells": [
  {
   "cell_type": "markdown",
   "id": "6bb2543b-24a9-456a-bd47-6a14d74af62a",
   "metadata": {},
   "source": [
    "### Problem set 2 \n",
    "\n",
    "Annie Kendzierski\n",
    "22100585"
   ]
  },
  {
   "cell_type": "markdown",
   "id": "6ad14899-9e07-4b22-992e-61a28baf6ac8",
   "metadata": {},
   "source": [
    "#### Problem 1\n"
   ]
  },
  {
   "cell_type": "markdown",
   "id": "cf237ebc-60d7-49b8-882b-f0a13a868aa3",
   "metadata": {},
   "source": [
    "##### \n",
    "Let $M$ be an $nxn$ real symmetric matrix. Prove that if $U$ is an $M$-invariant subspace of $R_n$,then $U^{\\perp}$ is $M$-invariant.\n"
   ]
  },
  {
   "cell_type": "markdown",
   "id": "6213598b-add2-4a8b-8632-13ed9f649a01",
   "metadata": {},
   "source": [
    "##### \n",
    "Let $M$ be an $nxn$ real symmetric matrix. Let $U$ be an $M$-invariant subspace of $R_n$. Then $Mu \\in U  \\forall u  \\in  U$. Let $v \\in U^{\\perp}$. Since $U^{\\perp}$ is a subspace of $V$ if $U \\in V$ (because $U^{\\perp}$ is closed under additon and scalar multiplication), Then we want to show that $Mv \\in U^{\\perp} \\forall v \\in U^{\\perp}$ and equivalently, that $Mv$ is orthogonal to all $u \\in U$. Because $M$ is symmetric, we know that for any $v,u \\in R_n$, $(Mv)u$ and $v(Mu)$ are equivalent and equal to zero because we have let $v \\in U^{\\perp}$ ie $v \\cdot u= 0 \\forall u \\in U$. Therefore, $Mv$ is orthogonal to all $u \\in U$\n",
    "and so $U^{\\perp}$ is also $M$ invariant. "
   ]
  },
  {
   "cell_type": "markdown",
   "id": "db91a147-a47c-4e22-b17b-61085ed2a5c3",
   "metadata": {},
   "source": [
    "#### Problems 2 & 3\n"
   ]
  },
  {
   "cell_type": "code",
   "execution_count": 30,
   "id": "501adf68-c4aa-4fd2-94d7-1e2c493bba2f",
   "metadata": {},
   "outputs": [],
   "source": [
    "import numpy as np\n",
    "import pandas as pd"
   ]
  },
  {
   "cell_type": "code",
   "execution_count": 31,
   "id": "513c1917-dd52-4141-b37e-ed43d98452e0",
   "metadata": {},
   "outputs": [
    {
     "name": "stdout",
     "output_type": "stream",
     "text": [
      "EigResult(eigenvalues=array([8.17829672e+00, 3.15564669e+00, 1.89238502e+00, 7.76602885e-01,\n",
      "       3.28133745e-01, 2.07157440e-01, 1.67888499e-01, 1.21332106e-01,\n",
      "       6.49091390e-02, 5.39818106e-02, 2.90184007e-02, 1.37658160e-02,\n",
      "       8.62330437e-03, 8.71415193e-04, 1.38701486e-03]), eigenvectors=array([[ 6.74206329e-02, -4.80776970e-01,  1.91324243e-01,\n",
      "         2.24036435e-01,  1.61510466e-01, -5.82260312e-01,\n",
      "        -4.90521885e-01,  1.71156888e-01, -1.77999868e-01,\n",
      "         6.71878050e-02,  4.67407466e-02, -5.97302044e-02,\n",
      "         2.03808844e-02,  1.10963031e-02, -1.58566147e-03],\n",
      "       [-3.21503169e-01, -1.51912660e-01,  1.75010054e-01,\n",
      "        -1.27951356e-02,  1.67364477e-04,  7.45409595e-02,\n",
      "        -2.17059007e-02, -1.62438013e-01,  3.07507158e-01,\n",
      "         1.56506205e-01,  5.54218500e-01,  2.52622406e-01,\n",
      "         4.74718954e-01,  1.68958437e-01, -2.57713555e-01],\n",
      "       [-3.09797920e-01, -4.43564606e-02,  2.29198831e-01,\n",
      "         1.16369237e-01, -1.52103129e-01,  2.35835558e-01,\n",
      "         1.15065625e-01,  7.78762455e-01, -5.08101598e-02,\n",
      "        -2.19387864e-01,  1.45723575e-01, -2.13654886e-01,\n",
      "        -1.45654603e-02,  1.10933688e-01,  8.60471061e-02],\n",
      "       [-2.75716552e-01, -2.56281377e-02, -3.20287610e-01,\n",
      "        -1.99946841e-01,  5.50276409e-01, -3.54934573e-01,\n",
      "         3.18966863e-01, -1.95836952e-02,  1.16602950e-01,\n",
      "        -3.12661932e-01,  2.48654970e-01, -1.48943058e-01,\n",
      "        -1.30274397e-01,  7.19214807e-02,  1.79842856e-01],\n",
      "       [ 2.90239712e-01,  2.50697386e-01, -7.20002720e-02,\n",
      "        -1.74066107e-01, -1.75244920e-01, -3.53831530e-01,\n",
      "         1.93448295e-01,  3.07074679e-01,  2.46955530e-01,\n",
      "         5.97845291e-01,  2.54220710e-01, -1.94044612e-01,\n",
      "        -2.40278198e-02, -6.70145774e-02,  6.36258627e-02],\n",
      "       [ 3.31208046e-01, -1.39261201e-01, -8.93452018e-02,\n",
      "         5.90687124e-02, -5.22093345e-02,  1.45111505e-01,\n",
      "         7.82437090e-02,  2.74428993e-02, -2.97996349e-01,\n",
      "        -6.48255782e-03,  4.91927652e-01,  4.79388375e-01,\n",
      "        -4.01620674e-01,  2.47148049e-01,  2.13883885e-01],\n",
      "       [-4.68147955e-02,  7.94015842e-03, -6.53056057e-01,\n",
      "         3.89436949e-01,  5.24109592e-02,  2.69734240e-01,\n",
      "        -4.38699198e-01,  1.07177704e-01,  3.13310067e-01,\n",
      "         8.98579157e-02,  1.11200336e-01, -1.03777780e-01,\n",
      "        -5.55163960e-02, -6.41761913e-02,  5.98399841e-02],\n",
      "       [-3.24374380e-01, -1.65347248e-01,  1.58815574e-01,\n",
      "        -1.12735460e-02, -5.55089405e-02,  3.65549600e-02,\n",
      "         3.01893989e-02, -5.10894136e-02,  9.72968676e-02,\n",
      "         1.46375816e-01,  5.46113747e-02,  2.42997081e-01,\n",
      "        -1.69005193e-01, -7.32351754e-01,  4.19915043e-01],\n",
      "       [ 3.38171101e-01,  1.03168413e-01, -2.46899562e-02,\n",
      "        -2.68305760e-02, -1.19210795e-01, -1.29949484e-01,\n",
      "        -3.68232405e-02,  1.29257615e-01,  1.42587755e-01,\n",
      "        -5.30136117e-01,  2.57043453e-01,  8.78150386e-02,\n",
      "        -7.68570450e-03, -4.87010773e-01, -4.60552490e-01],\n",
      "       [ 8.64702501e-02,  2.99791193e-01,  2.73282628e-01,\n",
      "         7.73882422e-01,  2.97287291e-01, -9.36439920e-02,\n",
      "         3.12125027e-01, -4.46673171e-02,  1.29480700e-01,\n",
      "         4.11755761e-02, -3.87320138e-02,  1.08172237e-01,\n",
      "        -2.33878789e-02, -1.26813862e-02, -1.16066520e-02],\n",
      "       [ 1.89066937e-01, -4.45447222e-01,  1.19040063e-01,\n",
      "         9.56727892e-02,  7.84520013e-02,  3.14276733e-01,\n",
      "         2.34402199e-01, -2.57426691e-01, -4.40335138e-02,\n",
      "         1.21002113e-01,  2.25165865e-01, -6.11389571e-01,\n",
      "        -1.68518470e-01, -1.43368952e-01, -1.62292039e-01],\n",
      "       [-3.23455366e-01,  6.15207141e-02, -2.20435167e-01,\n",
      "         3.52792564e-03,  2.02062429e-01,  1.73469517e-02,\n",
      "         1.01232068e-01,  1.61430706e-01, -4.69931284e-01,\n",
      "         3.52199092e-01, -3.37965873e-02,  1.51279679e-01,\n",
      "        -1.65160640e-01, -1.79242182e-01, -5.80720770e-01],\n",
      "       [ 1.37540127e-01, -5.00573765e-01, -5.48537414e-02,\n",
      "        -7.95396521e-02,  9.97899257e-02,  5.40668843e-02,\n",
      "         2.54248467e-01,  2.38877510e-01,  4.91188182e-01,\n",
      "         6.93870588e-02, -4.02049722e-01,  3.22132586e-01,\n",
      "        -1.53859981e-01,  1.07403597e-01, -1.99712099e-01],\n",
      "       [-3.01641989e-01,  1.75586593e-01,  2.50011605e-01,\n",
      "        -3.22700538e-02, -1.97047252e-01, -1.20249686e-01,\n",
      "        -2.36583051e-01, -1.82947540e-01,  3.00147103e-01,\n",
      "        -1.98249055e-02,  5.28368046e-02, -8.36780590e-02,\n",
      "        -6.93338279e-01,  2.07009579e-01, -2.19224453e-01],\n",
      "       [-2.15953525e-01, -2.22204588e-01, -3.30468046e-01,\n",
      "         3.07245090e-01, -6.40585333e-01, -3.33710392e-01,\n",
      "         3.49914761e-01, -1.63573312e-01, -9.45184792e-02,\n",
      "        -1.07278676e-01, -4.21249643e-02, -2.51189222e-02,\n",
      "         5.33685184e-02,  5.83859852e-02, -1.91495870e-02]]))\n"
     ]
    }
   ],
   "source": [
    "class MyPCA:\n",
    "    def __init__(self, df):\n",
    "        self.dataframe = df\n",
    "        \n",
    "    def __repr__(self):\n",
    "        return \"{}\".format(self.dataframe)\n",
    "    \n",
    "    def __len__(self):\n",
    "        return len(self.dataframe)\n",
    "        \n",
    "    def CV_Matrix(self):\n",
    "        Z = np.array(self.dataframe).T\n",
    "        data = [Z[:,j] for j in range(Z.shape[1])]\n",
    "        mu = (1/Z.shape[1]) * np.sum(data) \n",
    "        M = np.array([mu] * len(self.dataframe))\n",
    "        X = Z - M\n",
    "        CV_Mat = X @ X.T / len(self.dataframe)\n",
    "        return CV_Mat\n",
    "\n",
    "    def E(self):\n",
    "        CV_Mat = self.CV_Matrix()\n",
    "        E = np.linalg.eig(CV_Mat)\n",
    "        return E\n",
    "\n",
    "    def P(self): \n",
    "        E = self.E()\n",
    "        P = E[1].T\n",
    "        return P\n",
    "        \n",
    "    def Y(self):\n",
    "        Z = np.array(self.dataframe).T\n",
    "        data = [Z[:,j] for j in range(Z.shape[1])]\n",
    "        mu = (1/Z.shape[1]) * np.sum(data) \n",
    "        M = np.array([mu] * len(self.dataframe))\n",
    "        X = Z - M\n",
    "        P = self.P()\n",
    "        Y= P@X \n",
    "        df2 = pd.DataFrame({f\"PC{i+1}\": Y[i] for i in range(len(Y))})\n",
    "        return df2\n",
    "\n",
    "import pandas as pd\n",
    "df = pd.read_csv(\"data/UN_IRE_data.csv\")\n",
    "pca = MyPCA(df)\n",
    "#print(pca.Y())\n",
    "print(pca.E())\n",
    "            "
   ]
  },
  {
   "cell_type": "code",
   "execution_count": 32,
   "id": "691b7550-3a5f-47a3-8bd5-99f23c2dc8c4",
   "metadata": {},
   "outputs": [],
   "source": [
    "E = ([8.17829672e+00, 3.15564669e+00, 1.89238502e+00, 7.76602885e-01,\n",
    "       3.28133745e-01, 2.07157440e-01, 1.67888499e-01, 1.21332106e-01,\n",
    "       6.49091390e-02, 5.39818106e-02, 2.90184007e-02, 1.37658160e-02,\n",
    "       8.62330437e-03, 8.71415193e-04, 1.38701486e-03])"
   ]
  },
  {
   "cell_type": "code",
   "execution_count": 33,
   "id": "14abaaab-e880-440d-9124-b6a10a31f189",
   "metadata": {},
   "outputs": [
    {
     "data": {
      "text/plain": [
       "0.9335287543333334"
      ]
     },
     "execution_count": 33,
     "metadata": {},
     "output_type": "execute_result"
    }
   ],
   "source": [
    "sum(E[:4])/15"
   ]
  },
  {
   "cell_type": "markdown",
   "id": "12645486-2cf8-4e6d-b186-f9bfe657774e",
   "metadata": {},
   "source": [
    "##### Therefore, The first four principal components are needed for at least 90% (around 93 percent) of the variability is preserved.\n"
   ]
  },
  {
   "cell_type": "code",
   "execution_count": 34,
   "id": "ae435a68-7dbc-4e7f-a0ad-685c08afd224",
   "metadata": {},
   "outputs": [
    {
     "name": "stdout",
     "output_type": "stream",
     "text": [
      "         PC1       PC2       PC3       PC4       PC5       PC6       PC7  \\\n",
      "0  -3.859661  1.092965  2.746804  0.361532 -0.515842  0.442712 -0.223579   \n",
      "1  -4.380865  0.762430  1.345132 -0.016023 -0.805976 -0.420907  0.094773   \n",
      "2  -3.771720  0.698849  0.924661  0.081932 -0.523770 -0.420449  0.063508   \n",
      "3  -3.089305  0.994421  0.662235 -1.005887  0.554142 -0.125788 -0.203335   \n",
      "4  -2.650442  1.172545  0.811742 -0.524984  1.094100  0.260804 -0.242847   \n",
      "5  -3.052129  0.954091 -0.972506 -0.123231  0.390842  0.183112  0.873794   \n",
      "6  -2.532265 -0.012652 -1.737379  0.677628  0.093237 -0.578834 -0.193919   \n",
      "7  -2.405501  0.128035 -3.922349  1.696542 -0.726924  0.350161 -0.368696   \n",
      "8  -1.725709 -0.838328 -1.877018 -1.154995  0.424161  0.553515  0.054990   \n",
      "9  -0.243155 -3.448133 -0.535867 -0.672543  0.531547 -0.619729 -0.463448   \n",
      "10  0.302828 -2.788523 -0.248259 -0.064700  0.679852 -0.313937  0.792422   \n",
      "11  1.573001 -2.616965  1.057592  0.019260 -0.070536  0.654731 -0.290646   \n",
      "12  1.648412 -2.284175  0.582451 -0.182199 -0.799822  0.837529  0.480971   \n",
      "13  2.111370 -2.790861  0.916492  0.172556 -0.459783 -0.497471 -0.482703   \n",
      "14  2.396118 -1.262799  0.679730  0.743918 -0.274762 -0.164074  0.486500   \n",
      "15  2.858672  1.331252  1.317206  2.689659  1.187704  0.187281 -0.064427   \n",
      "16  2.258926  0.990918 -0.428916 -0.730525  0.085520  0.708947 -0.564244   \n",
      "17  3.268547  1.460459 -0.079742 -0.012446 -0.175350 -0.621329  0.035051   \n",
      "18  3.306393  2.394388 -0.485789 -0.463084 -0.292748 -0.072790  0.610851   \n",
      "19  3.844307  2.143944 -0.327054 -0.863474 -0.335450 -0.023763 -0.099687   \n",
      "20  4.142177  1.918139 -0.429167 -0.628936 -0.060144 -0.319721 -0.295329   \n",
      "\n",
      "         PC8       PC9      PC10      PC11      PC12      PC13      PC14  \\\n",
      "0   0.633265  0.149497 -0.001144  0.054600  0.074024 -0.101601 -0.005382   \n",
      "1  -0.107674 -0.173023 -0.127820  0.182523  0.042820 -0.147020 -0.008075   \n",
      "2  -0.513488 -0.102554 -0.129144  0.126246 -0.004530  0.255188 -0.006064   \n",
      "3  -0.661756  0.261720  0.218712 -0.021240 -0.026098  0.033549  0.042835   \n",
      "4   0.009012  0.284743  0.252837 -0.322497 -0.031617 -0.003007 -0.040867   \n",
      "5   0.350152 -0.105462 -0.292937 -0.189333 -0.181791 -0.027570  0.024092   \n",
      "6   0.370294 -0.530011  0.005602 -0.186474 -0.107961  0.036773 -0.003650   \n",
      "7  -0.244041  0.423063  0.140758  0.033313  0.009272 -0.035009 -0.004539   \n",
      "8   0.388143 -0.133965 -0.084627  0.146688  0.297587  0.050293  0.007546   \n",
      "9   0.297979  0.126146 -0.098806  0.164953 -0.054481  0.015965  0.003420   \n",
      "10 -0.354517  0.071796  0.093033  0.215358  0.041322 -0.126155 -0.040508   \n",
      "11  0.229711  0.026225  0.001964  0.145456 -0.140001  0.089281  0.056550   \n",
      "12 -0.131958  0.026759  0.160503 -0.056426 -0.177289  0.016397 -0.028603   \n",
      "13 -0.016224 -0.147397  0.067846 -0.260663  0.025019 -0.009380 -0.033658   \n",
      "14 -0.200856  0.181084 -0.241264 -0.376114  0.256860  0.016413  0.044627   \n",
      "15 -0.020734 -0.120900 -0.078523  0.180815  0.018365  0.045726 -0.010559   \n",
      "16 -0.631207 -0.624391 -0.093222 -0.043769  0.030293 -0.117739  0.004545   \n",
      "17  0.282039 -0.029583  0.581340  0.043746  0.001228 -0.089607  0.052360   \n",
      "18 -0.004140 -0.102235  0.224894  0.114625 -0.022205  0.058132 -0.006358   \n",
      "19  0.394230  0.127833  0.004659 -0.001293  0.077959  0.129514 -0.047805   \n",
      "20 -0.068230  0.390655 -0.604661  0.049486 -0.128774 -0.090141  0.000094   \n",
      "\n",
      "        PC15  \n",
      "0   0.058288  \n",
      "1  -0.058795  \n",
      "2   0.012012  \n",
      "3  -0.003277  \n",
      "4  -0.027412  \n",
      "5   0.047047  \n",
      "6  -0.046224  \n",
      "7   0.021889  \n",
      "8  -0.044982  \n",
      "9   0.055023  \n",
      "10  0.008235  \n",
      "11 -0.018523  \n",
      "12 -0.052131  \n",
      "13  0.029413  \n",
      "14 -0.001130  \n",
      "15 -0.014082  \n",
      "16  0.041426  \n",
      "17 -0.024383  \n",
      "18  0.058984  \n",
      "19 -0.002700  \n",
      "20 -0.038678  \n"
     ]
    },
    {
     "data": {
      "image/png": "[encoded data removed]",
      "text/plain": [
       "<Figure size 640x480 with 1 Axes>"
      ]
     },
     "metadata": {},
     "output_type": "display_data"
    }
   ],
   "source": [
    "def plot_dataframe(df):\n",
    "    import matplotlib.pyplot as plt\n",
    "\n",
    "    cvals = df.columns.values\n",
    "    xbar = sum(df[cvals[0]]) / len(df)   \n",
    "    ybar = sum(df[cvals[1]]) / len(df)     \n",
    "    fig, ax = plt.subplots()\n",
    "    ax.scatter(df[cvals[0]], df[cvals[1]], c=\"blue\", zorder=2)\n",
    "    ax.scatter([xbar], [ybar], marker='x', c=\"red\", zorder=3)\n",
    "    ax.grid()\n",
    "    ax.set_xlabel(cvals[0])                 \n",
    "    ax.set_ylabel(cvals[1])\n",
    "    return fig\n",
    "\n",
    "df = pd.read_csv(\"data/UN_IRE_data.csv\")\n",
    "\n",
    "pca = MyPCA(df)\n",
    "df2 = pca.Y()\n",
    "\n",
    "fig = plot_dataframe(df2)\n",
    "print(df2)"
   ]
  },
  {
   "cell_type": "code",
   "execution_count": null,
   "id": "713fec25-c9bd-4b17-ab73-019ab2a8cb79",
   "metadata": {},
   "outputs": [],
   "source": []
  }
 ],
 "metadata": {
  "kernelspec": {
   "display_name": "Python [conda env:base] *",
   "language": "python",
   "name": "conda-base-py"
  },
  "language_info": {
   "codemirror_mode": {
    "name": "ipython",
    "version": 3
   },
   "file_extension": ".py",
   "mimetype": "text/x-python",
   "name": "python",
   "nbconvert_exporter": "python",
   "pygments_lexer": "ipython3",
   "version": "3.12.7"
  }
 },
 "nbformat": 4,
 "nbformat_minor": 5
}
